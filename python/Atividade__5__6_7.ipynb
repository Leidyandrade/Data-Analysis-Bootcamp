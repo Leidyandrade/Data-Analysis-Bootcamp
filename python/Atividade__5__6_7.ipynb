{
  "nbformat": 4,
  "nbformat_minor": 0,
  "metadata": {
    "colab": {
      "provenance": [],
      "authorship_tag": "ABX9TyOXA8ONsvCtzf90mRCTTveO",
      "include_colab_link": true
    },
    "kernelspec": {
      "name": "python3",
      "display_name": "Python 3"
    },
    "language_info": {
      "name": "python"
    }
  },
  "cells": [
    {
      "cell_type": "markdown",
      "metadata": {
        "id": "view-in-github",
        "colab_type": "text"
      },
      "source": [
        "<a href=\"https://colab.research.google.com/github/Leidyandrade/Data-Analysis-Bootcamp/blob/main/python/Atividade__5__6_7.ipynb\" target=\"_parent\"><img src=\"https://colab.research.google.com/assets/colab-badge.svg\" alt=\"Open In Colab\"/></a>"
      ]
    },
    {
      "cell_type": "markdown",
      "source": [
        "Atividade 1: Dada a string \"  Python é incrível!  \", use métodos de string para remover os espaços em branco no início e no final. Qual será o resultado após a remoção dos espaços?\n"
      ],
      "metadata": {
        "id": "hTnNWdY2kE5q"
      }
    },
    {
      "cell_type": "code",
      "source": [
        "txt = \" Python é incrivel!\"\n",
        "txt_edt_ = txt.strip()\n",
        "print(txt_edt_)"
      ],
      "metadata": {
        "id": "T9gavjR2kNzx"
      },
      "execution_count": null,
      "outputs": []
    },
    {
      "cell_type": "markdown",
      "source": [
        "Atividade 2: Você tem a string \"programação em python\" e deseja capitalizar apenas a primeira letra de cada palavra. Utilize o método de string apropriado e forneça o resultado."
      ],
      "metadata": {
        "id": "ouZe_ld3lRNC"
      }
    },
    {
      "cell_type": "code",
      "source": [
        "txt = \"programação em python\"\n",
        "letra1_palavras = txt.title()\n",
        "print(letra1_palavras)"
      ],
      "metadata": {
        "id": "DRyzRKPdlmZm"
      },
      "execution_count": null,
      "outputs": []
    },
    {
      "cell_type": "markdown",
      "source": [
        "Atividade 3: A string \"2024-08-12\" representa uma data no formato ISO. Use métodos de string para formatar esta data no formato \"12/08/2024\". Qual seria a string resultante?\n"
      ],
      "metadata": {
        "id": "nWflsvUQmPqJ"
      }
    },
    {
      "cell_type": "code",
      "source": [
        "data_iso = \"2024-08-12\"\n",
        "ano, mes, dia = data_iso.split('-')\n",
        "data_formatada = f\"{dia}/{mes}/{ano}\"\n",
        "print(data_formatada)"
      ],
      "metadata": {
        "id": "V-f4lF75mXzx"
      },
      "execution_count": null,
      "outputs": []
    },
    {
      "cell_type": "markdown",
      "source": [
        "Atividade 4: Dada a string \"atividade-supimpa-de-strings-no-python\", utilize o método de string para substituir todas as ocorrências da letra '-' por '_'. Qual será a nova string?"
      ],
      "metadata": {
        "id": "9bkNfIFcm4lw"
      }
    },
    {
      "cell_type": "code",
      "source": [
        "variavel = \"atividade-supimpa-de-strings-no-python\"\n",
        "nova_variavel = variavel.replace('-' , '_')\n",
        "print(nova_variavel)"
      ],
      "metadata": {
        "id": "lHiRHbvgnJSF"
      },
      "execution_count": null,
      "outputs": []
    },
    {
      "cell_type": "markdown",
      "source": [
        "Atividade 5: Crie uma lista com cinco elementos de sua escolha. Em seguida, adicione um novo elemento no final da lista e imprima a lista atualizada. Depois, remova o primeiro elemento e imprima a lista resultante.\n"
      ],
      "metadata": {
        "id": "Qwqh8YaH5jjX"
      }
    },
    {
      "cell_type": "code",
      "source": [
        "lista = [\"uva\", \"maça\", \"pêra\", \"banana\"]\n",
        "lista.append(\"kiwi\")\n",
        "print(lista)\n",
        "lista.pop(0)\n",
        "print(lista)"
      ],
      "metadata": {
        "id": "2y1ZRsTu51tB"
      },
      "execution_count": null,
      "outputs": []
    },
    {
      "cell_type": "markdown",
      "source": [
        "Atividade 6: Dado o dicionário estudante = {'nome': 'Ana', 'idade': 20, 'curso': 'Engenharia'}, imprima o valor associado à chave 'idade'. Atualize o valor da chave 'idade' para 21 e imprima o dicionário atualizado.\n"
      ],
      "metadata": {
        "id": "02XqZhUi7buz"
      }
    },
    {
      "cell_type": "code",
      "source": [
        "estudante = {'nome': 'Ariella','idade': 19,'curso':'Direito'}\n",
        "print(estudante['idade'])\n",
        "estudante['idade'] = 21\n",
        "print(estudante)"
      ],
      "metadata": {
        "id": "INLh-wM7v3d3",
        "collapsed": true
      },
      "execution_count": null,
      "outputs": []
    },
    {
      "cell_type": "markdown",
      "source": [
        "Atividade 7: Crie uma lista chamada livros que contenha três dicionários, cada um representando um livro. Cada dicionário deve ter as chaves 'titulo', 'autor' e 'genero'.\n",
        "\n"
      ],
      "metadata": {
        "id": "SgIi_2f_M2I8"
      }
    },
    {
      "cell_type": "code",
      "source": [
        "livros = [\n",
        "    {'titulo': 'Cem Anos de Solidão', 'autor': 'Gabriel García Márquez', 'genero': 'Realismo Mágico'},\n",
        "    {'titulo': 'Orgulho e Preconceito', 'autor': 'Jane Austen', 'genero': 'Romance'},\n",
        "    {'titulo': 'Kafka à Beira-Mar', 'autor': 'Haruki Murakami', 'genero': 'Ficção Contemporânea/Fantasia'}\n",
        "]\n",
        "\n",
        "novo_livro = {'titulo': '1984', 'autor': 'George Orwell', 'genero': 'Distopia'}\n",
        "livros.append(novo_livro)\n",
        "print(\"Lista após adicionar o novo livro:\", livros)\n",
        "livros.pop(0)"
      ],
      "metadata": {
        "id": "xZAaz6wxYHSV"
      },
      "execution_count": null,
      "outputs": []
    },
    {
      "cell_type": "markdown",
      "source": [
        "Atividade 8: Crie um set chamado gêneros que contenha três gêneros literários únicos, por exemplos: Distopia, Fantasia e etc.\n",
        "Adicione um novo gênero ao set e imprima o set atualizado.\n",
        "Verifique se o gênero 'Sci-Fi' está presente no set e imprima o resultado.\n",
        "Remova um gênero do set e imprima o set resultante.\n",
        "\n"
      ],
      "metadata": {
        "id": "hv6B7ZlDiRhH"
      }
    },
    {
      "cell_type": "code",
      "source": [
        "generos = {'Distopia', 'Fantasia', 'Romance'}\n",
        "\n",
        "generos.add('Realismo Mágico')\n",
        "\n",
        "print(\"Set atualizado com novo gênero:\", generos)\n",
        "\n",
        "sci_fi_presente = 'Sci-Fi' in generos\n",
        "print(\"O gênero 'Sci-Fi' está presente no set?\", sci_fi_presente)\n",
        "\n",
        "generos.remove('Fantasia')\n",
        "\n",
        "print(\"Set após remover o gênero:\", generos)\n"
      ],
      "metadata": {
        "id": "vyadgeZrjhZN"
      },
      "execution_count": null,
      "outputs": []
    },
    {
      "cell_type": "markdown",
      "source": [
        "Atividade 9: Crie um programa que use um loop for para imprimir a tabela de multiplicação de um número fornecido pelo usuário, de 1 a 10.\n"
      ],
      "metadata": {
        "id": "nE7gmhRrj4kM"
      }
    },
    {
      "cell_type": "code",
      "source": [
        "numero = int(input(\"Digite um número: \"))\n",
        "\n",
        "for i in range(1,11):\n",
        "    resultado = numero * i\n",
        "    print(f'{numero} x {i} = {resultado}')\n",
        "\n"
      ],
      "metadata": {
        "id": "ZJOcPv4ekDSj"
      },
      "execution_count": null,
      "outputs": []
    },
    {
      "cell_type": "markdown",
      "source": [
        "Atividade 10: Escreva um programa que use um loop while para imprimir uma contagem regressiva de 10 a 1. Após o loop, exiba “Lançamento!”\n"
      ],
      "metadata": {
        "id": "Q309NZj3lK52"
      }
    },
    {
      "cell_type": "code",
      "source": [
        "tabela_contagem = 10\n",
        "while tabela_contagem >= 1:\n",
        "    print(tabela_contagem)\n",
        "    tabela_contagem -= 1\n",
        "print(\"Lançamento!!!\")\n"
      ],
      "metadata": {
        "id": "mV-M6OEwlVqQ"
      },
      "execution_count": null,
      "outputs": []
    },
    {
      "cell_type": "markdown",
      "source": [
        "Atividade 11: Desenvolva um programa que solicite ao usuário uma string e use um loop for para contar o número de vezes que uma letra específica (também fornecida pelo usuário)"
      ],
      "metadata": {
        "id": "MvhpIrc3mSt8"
      }
    },
    {
      "cell_type": "code",
      "source": [
        "frase = input(\"Digite uma frase: \")\n",
        "letra = input(\"Digite a letra que deseja contar\")\n",
        "contador = 0\n",
        "for i in frase:\n",
        "    if i == letra:\n",
        "        contador +=1\n",
        "        print(f\"A letra '{letra}' aparece {contador} na frase.\")\n"
      ],
      "metadata": {
        "id": "vsvr2RFdmZal"
      },
      "execution_count": null,
      "outputs": []
    },
    {
      "cell_type": "markdown",
      "source": [
        "Atividade 12: Crie uma lista de palavras palavras = ['cachorro', 'gato', 'elefante', 'passaro', 'coelho']. Escreva um código que filtre e imprima as palavras que têm mais de 4 letras.\n"
      ],
      "metadata": {
        "id": "G3QDmVhhpdX9"
      }
    },
    {
      "cell_type": "code",
      "source": [
        "lista = ['cachorro', 'gato', 'elefante', 'passaro', 'coelho']\n",
        "for  i in lista:\n",
        "    if len(i) >4:\n",
        "        print(i)"
      ],
      "metadata": {
        "id": "3uwobyy_p55v"
      },
      "execution_count": null,
      "outputs": []
    },
    {
      "cell_type": "markdown",
      "source": [
        "Atividade 13: Dada a lista frases = ['sol', 'lua', 'estrela', 'planeta', 'galáxia'], desenvolva um programa que filtre e imprima todas as palavras que contêm a letra ‘a’.\n"
      ],
      "metadata": {
        "id": "aPNWIGPhpr7p"
      }
    },
    {
      "cell_type": "code",
      "source": [
        "lista = ['sol', 'lua','estrela', 'planeta', 'galáxia']\n",
        "for i in lista:\n",
        "    if 'a' in i:\n",
        "        print(i)\n"
      ],
      "metadata": {
        "id": "rj7jmGZep6e1"
      },
      "execution_count": null,
      "outputs": []
    },
    {
      "cell_type": "markdown",
      "source": [
        "Atividade 14: Com base na lista de dicionários abaixo, faça:\n",
        "\n",
        "livros_com_generos = [\n",
        "    {'titulo': '1984', 'autor': 'George Orwell', 'genero': 'Distopia'},\n"
      ],
      "metadata": {
        "id": "XhaqSWu0px-s"
      }
    },
    {
      "cell_type": "code",
      "source": [
        "livros_com_generos = [\n",
        "    {'titulo': '1984', 'autor': 'George Orwell', 'genero': 'Distopia'},\n",
        "    {'titulo': 'O Senhor dos Anéis', 'autor': 'J.R.R. Tolkien', 'genero': 'Fantasia'},\n",
        "    {'titulo': 'Dom Casmurro', 'autor': 'Machado de Assis', 'genero': 'Romance'},\n",
        "    {'titulo': 'Admirável Mundo Novo', 'autor': 'Aldous Huxley', 'genero': 'Distopia'},\n",
        "    {'titulo': 'O Hobbit', 'autor': 'J.R.R. Tolkien', 'genero': 'Fantasia'},\n",
        "    {'titulo': 'Fahrenheit 451', 'autor': 'Ray Bradbury', 'genero': 'Distopia'},\n",
        "    {'titulo': 'As Crônicas de Nárnia', 'autor': 'C.S. Lewis', 'genero': 'Fantasia'},\n",
        "]\n",
        "\n",
        "fantasia = [livro for livro in livros_com_generos if livro['genero'] == 'Fantasia']\n",
        "\n",
        "distopia_ou_romance = [livro for livro in livros_com_generos if livro['genero'] in ['Distopia', 'Romance']]\n",
        "\n",
        "print(distopia_ou_romance)\n"
      ],
      "metadata": {
        "id": "Spz65vj1p7dr"
      },
      "execution_count": null,
      "outputs": []
    }
  ]
}