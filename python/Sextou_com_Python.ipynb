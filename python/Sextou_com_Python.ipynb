{
  "nbformat": 4,
  "nbformat_minor": 0,
  "metadata": {
    "colab": {
      "provenance": [],
      "authorship_tag": "ABX9TyM3VzAzmHFyfM/I7TBWqLBT",
      "include_colab_link": true
    },
    "kernelspec": {
      "name": "python3",
      "display_name": "Python 3"
    },
    "language_info": {
      "name": "python"
    }
  },
  "cells": [
    {
      "cell_type": "markdown",
      "metadata": {
        "id": "view-in-github",
        "colab_type": "text"
      },
      "source": [
        "<a href=\"https://colab.research.google.com/github/Leidyandrade/Data-Analysis-Bootcamp/blob/main/python/Sextou_com_Python.ipynb\" target=\"_parent\"><img src=\"https://colab.research.google.com/assets/colab-badge.svg\" alt=\"Open In Colab\"/></a>"
      ]
    },
    {
      "cell_type": "markdown",
      "source": [
        "\n",
        "\n",
        "**Atividade 1: Crie uma variável chamada idade e atribua um valor. Em uma variável resultado, crie uma expressão lógica que retorne V ou F, onde a idade esteja entre 0 e 12 (para criança) ou entre 13 e 19 (para adolescente). Imprima ‘É uma criança ou adolescente? {resultado}’.**"
      ],
      "metadata": {
        "id": "gk6U5vq2v_yF"
      }
    },
    {
      "cell_type": "markdown",
      "source": [],
      "metadata": {
        "id": "nU_fa01OGrR0"
      }
    },
    {
      "cell_type": "markdown",
      "source": [],
      "metadata": {
        "id": "OP32kqWaG8ec"
      }
    },
    {
      "cell_type": "markdown",
      "source": [],
      "metadata": {
        "id": "iB3RnJyDHY-P"
      }
    },
    {
      "cell_type": "code",
      "source": [
        "idade = 36\n",
        "resultado = (idade >= 0 and idade <= 12) or (idade >= 13 and idade <= 19)\n",
        "print(f'É uma criança ou adolescente? {resultado}')"
      ],
      "metadata": {
        "id": "cQhzTLq-wHeF"
      },
      "execution_count": null,
      "outputs": []
    },
    {
      "cell_type": "markdown",
      "source": [
        "**Atividade 2: Solicite ao usuário que informe a temperatura em graus Celsius e a umidade em porcentagem. Em uma variável resultado, atribua a expressão lógica que retorne V ou F onde a temperatura está entre 15 e 25 graus e a umidade entre 30% e 60%. Imprima, pelos dados está em condições confortáveis? {resultado}**"
      ],
      "metadata": {
        "id": "Uof-8RxgxYDL"
      }
    },
    {
      "cell_type": "code",
      "source": [
        "temperatura = float(input(\"Informe a temperatura em graus Celsius\"))\n",
        "umidade = float(input(\"Informe a umidade em porcentagem\"))\n",
        "resultado = (15 <= temperatura <= 25) and (30 <= umidade <= 60)\n",
        "print(f'Pelos dados, está em condições confortáveis? {resultado}')\n"
      ],
      "metadata": {
        "id": "zeOhBwqMx4wg"
      },
      "execution_count": null,
      "outputs": []
    },
    {
      "cell_type": "markdown",
      "source": [
        "**Atividade 3: Peça ao usuário que informe sua idade e nível de escolaridade (fundamental, médio ou superior). Verifique onde a pessoa é considerada qualificada com base na idade (maior ou igual a 21 anos) e escolaridade (superior). Imprima apto para a vaga? {resultado}**\n"
      ],
      "metadata": {
        "id": "_-GSH32Azi-y"
      }
    },
    {
      "cell_type": "code",
      "source": [
        "idade = int(input(\"Informe sua idade: \"))\n",
        "escolaridade = input(\"Informe seu nível de escolaridade (fundamental, médio ou superior): \")\n",
        "if idade >= 21 and escolaridade == \"superior\":\n",
        "    resultado = True\n",
        "else:\n",
        "    resultado = False\n",
        "resultado = (idade >= 21)\n",
        "\n",
        "print(f'Apto para a vaga? {resultado}')"
      ],
      "metadata": {
        "id": "c41-Qt3zzzlz"
      },
      "execution_count": null,
      "outputs": []
    },
    {
      "cell_type": "markdown",
      "source": [
        "**Atividade 4: Solicite ao usuário que informe o valor de uma compra e o método de pagamento (dinheiro, cartão ou cheque). Determine se um desconto deve ser aplicado com base no valor da compra (acima de 100 reais) e método de pagamento (dinheiro). Atribua essa expressão lógica em uma variável e imprima, Será aplicado desconto? {resultado}**\n"
      ],
      "metadata": {
        "id": "BuzatHcX22Of"
      }
    },
    {
      "cell_type": "code",
      "source": [
        "valor_compra = float(input(\"Informe o valor da compra\"))\n",
        "metodo_pagamento = input(\"Informe o método de pagamento (dinheiro, cartão ou cheque): \")\n",
        "resultado = (valor_compra > 100) and (metodo_pagamento == \"dinheiro\" or metodo_pagamento == \"Dinheiro\")\n",
        "print(f'Será aplicado desconto? {resultado}')\n"
      ],
      "metadata": {
        "id": "Pw1NFFel28jd"
      },
      "execution_count": null,
      "outputs": []
    },
    {
      "cell_type": "markdown",
      "source": [
        "**Atividade 5: Escreva um algoritmo que armazene o valor 10 em uma variável A e o valor 20 em uma variável B. A seguir (utilizando apenas atribuições entre variáveis) troque os seus conteúdos fazendo com que o valor que está em A passe para B e vice-versa. Ao final, escrever os valores que ficaram armazenados nas variáveis.**"
      ],
      "metadata": {
        "id": "2CVBCnvG3Dym"
      }
    },
    {
      "cell_type": "code",
      "source": [
        "from re import A\n",
        "a = 10\n",
        "b = 20\n",
        "print(f'Valores iniciais: a = {a}, b ={b}')\n",
        "provisorio = a\n",
        "a = b\n",
        "b = provisorio\n",
        "print(f'Valores finais: a = {a}, b = {b}')"
      ],
      "metadata": {
        "id": "mdgCSetQ3QHm"
      },
      "execution_count": null,
      "outputs": []
    },
    {
      "cell_type": "markdown",
      "source": [
        "**Atividade 6: Desenvolva um programa que leia um valor e exiba a mensagem “É MAIOR QUE 10!” se o valor lido for maior que 10. Caso contrário, o programa deve exibir a mensagem “NÃO É MAIOR QUE 10!”.**"
      ],
      "metadata": {
        "id": "OoG_oY1H8RFf"
      }
    },
    {
      "cell_type": "code",
      "source": [
        "valor = float(input('Digite um valor'))\n",
        "if valor > 10:\n",
        "    print(\"É MAIOR QUE 10!\")\n",
        "else:\n",
        "    print(\"NÃO É MAIOR QUE 10!\")"
      ],
      "metadata": {
        "id": "xM_k3oFs8gml"
      },
      "execution_count": null,
      "outputs": []
    },
    {
      "cell_type": "markdown",
      "source": [
        "**Atividade 7: Desenvolva um programa que leia um valor e determine se ele é positivo ou negativo, considerando o valor zero como positivo. O programa deve exibir “POSITIVO” se o valor for maior ou igual a zero e “NEGATIVO” se for menor que zero.**"
      ],
      "metadata": {
        "id": "X0dYHfRR98Mn"
      }
    },
    {
      "cell_type": "code",
      "source": [
        "valor = float(input(\"Informe um valor: \"))\n",
        "if valor >= 0:\n",
        "  print(\"POSITIVO\")\n",
        "else:\n",
        "  print(\"Negativo\")"
      ],
      "metadata": {
        "id": "QGYbVDaS-IJO"
      },
      "execution_count": null,
      "outputs": []
    },
    {
      "cell_type": "markdown",
      "source": [
        "**Atividade 8: Desenvolva um programa que leia dois valores diferentes e determine qual deles é o maior. O programa deve comparar os dois valores e exibir o maior deles.**"
      ],
      "metadata": {
        "id": "xqP9DGD4_NCA"
      }
    },
    {
      "cell_type": "code",
      "source": [
        "valor1 = float(input(\"Digite o primeiro valor: \"))\n",
        "valor2 = float(input(\"Digite o segundo valor: \"))\n",
        "if valor1 > valor2:\n",
        "    print(f\"O maior valor é: {valor1}\")\n",
        "elif valor2 > valor1:\n",
        "    print(f\"O maior valor é: {valor2}\")\n",
        "else:\n",
        "    print(\"Os valores são iguais, insira valores diferentes.\")\n"
      ],
      "metadata": {
        "collapsed": true,
        "id": "j5hf2b7H_bjt"
      },
      "execution_count": null,
      "outputs": []
    },
    {
      "cell_type": "markdown",
      "source": [
        "**Atividade 9: Desenvolva um programa que leia dois valores diferentes e os exiba em ordem crescente. O programa deve comparar os dois valores e imprimir primeiro o menor e depois o maior.**"
      ],
      "metadata": {
        "id": "5RS8gdcLAs78"
      }
    },
    {
      "cell_type": "code",
      "source": [
        "valor1 = float(input(\"Digite o primeiro valor: \"))\n",
        "valor2 = float(input(\"Digite o segundo valor: \"))\n",
        "\n",
        "if valor1 < valor2:\n",
        "        print(f\"Os valores em ordem crescente são: {valor1}, {valor2}\")\n",
        "else:\n",
        "        print(f\"Os valores em ordem crescente são: {valor2}, {valor1}\")"
      ],
      "metadata": {
        "id": "S4h3VBK3A1uJ"
      },
      "execution_count": null,
      "outputs": []
    },
    {
      "cell_type": "markdown",
      "source": [
        "**Atividade 10: A empresa XYZ S.A. decidiu reajustar os salários de seus colaboradores a partir do próximo mês. Foi determinado que todos os funcionários terão um aumento de 15% em relação ao seu salário atual. Crie um programa que peça ao usuário o valor do salário atual de um funcionário, calcule o novo salário com o aumento de 15% e exiba o valor atualizado de forma clara.**"
      ],
      "metadata": {
        "id": "WkuQSFa0IS5_"
      }
    },
    {
      "cell_type": "code",
      "source": [
        "salario_atual = float(input(\"Digite o valor do seu salário atual: \"))\n",
        "novo_salario = salario_atual * 1.15\n",
        "print(f\"O novo salário com aumento de 15% é: R$ {novo_salario:.2f}\")\n"
      ],
      "metadata": {
        "id": "Fk-wrXaQIbZn"
      },
      "execution_count": null,
      "outputs": []
    },
    {
      "cell_type": "markdown",
      "source": [
        "**Atividade 11: Pedro adquiriu um saco de ração para gatos, cuja quantidade é medida em quilos. Ele tem dois gatos e fornece a mesma quantidade de ração para cada um diariamente, com a medição feita em gramas. Escreva um programa que receba o peso total do saco de ração e a quantidade de ração fornecida a cada gato diariamente. O programa deve calcular e exibir quanto de ração restará no saco após cinco dias de alimentação.**"
      ],
      "metadata": {
        "id": "1PHrTfGTHd-x"
      }
    },
    {
      "cell_type": "code",
      "source": [
        "peso_saco = float(input(\"Digite o peso do saco de ração em quilos: \"))\n",
        "qnt_diaria = float(input('Digite a quantidade de ração fornecida a cada gato diariamente: '))\n",
        "peso_saco_gramas = peso_saco * 1000\n",
        "consumo_total_diario = qnt_diaria * 2\n",
        "consumo_cinco_dias = consumo_total_diario * 5\n",
        "restante = peso_saco_gramas - consumo_cinco_dias\n",
        "print(f\"Após cinco dias, terão {restante} gramas de ração no saco.\")\n",
        "\n",
        "\n"
      ],
      "metadata": {
        "id": "91dEgP92HsKQ"
      },
      "execution_count": null,
      "outputs": []
    },
    {
      "cell_type": "markdown",
      "source": [
        "**Atividade 12: Desenvolva um programa para calcular o volume de uma caixa retangular. O programa deve receber como entrada as dimensões da caixa: comprimento, largura e altura. Utilizando a fórmula VOLUME = COMPRIMENTO * LARGURA * ALTURA, o programa deve calcular e exibir o volume da caixa.**"
      ],
      "metadata": {
        "id": "2LMwpeKkK-zr"
      }
    },
    {
      "cell_type": "code",
      "source": [
        "comprimento = float(input(\"Digite o comprimento da caixa: \"))\n",
        "largura = float(input(\"Digite a largura da caixa: \"))\n",
        "altura = float(input(\"Digite a altura da caixa: \"))\n",
        "volume = comprimento * largura * altura\n",
        "print(f'O volume da caixa retangular é de: {volume} ')\n",
        "\n",
        "\n"
      ],
      "metadata": {
        "id": "ransBshyLkBJ"
      },
      "execution_count": null,
      "outputs": []
    },
    {
      "cell_type": "markdown",
      "source": [
        "**Atividade 13: Desenvolva um programa que leia três valores numéricos inteiros, denominados A, B e C. O programa deve calcular o quadrado da soma desses três valores e exibir o resultado final.**"
      ],
      "metadata": {
        "id": "FItoLbJxN0zI"
      }
    },
    {
      "cell_type": "code",
      "source": [
        "a = int(input(\"Digite o valor de a: \"))\n",
        "b = int(input(\"Digite o valor de b: \"))\n",
        "c = int(input(\"Digite o valor de c: \"))\n",
        "soma = a + b + c\n",
        "quadrado_soma = soma **2\n",
        "print(f\"O quadrado da soma de a, b e c é: {quadrado_soma}\")\n"
      ],
      "metadata": {
        "id": "KSSxoEN5N-UU"
      },
      "execution_count": null,
      "outputs": []
    },
    {
      "cell_type": "markdown",
      "source": [
        "**Atividade 14: Elaborar um programa que leia dois valores numéricos reais desconhecidos representados pelas variáveis A e B. Calcular e apresentar os resultados das quatro operações aritméticas básicas (soma, subtração, divisão e multiplicação).**"
      ],
      "metadata": {
        "id": "cD2lsrW0QJcI"
      }
    },
    {
      "cell_type": "code",
      "source": [
        "a = float(input(\"Digite o valor de a: \"))\n",
        "b = float(input(\"Digite o valor de b: \"))\n",
        "soma = a + b\n",
        "subtracao = a - b\n",
        "multiplicacao = a * b\n",
        "divisao = a / b\n",
        "print(f\"A soma de A e B é: {soma}\")\n",
        "print(f\"A subtração de A por B é: {subtracao}\")\n",
        "print(f\"A multiplicação de A e B é: {multiplicacao}\")\n",
        "print(f\"A divisão de A por B é: {divisao}\")\n"
      ],
      "metadata": {
        "id": "S8CDSE7WQTdv"
      },
      "execution_count": null,
      "outputs": []
    },
    {
      "cell_type": "markdown",
      "source": [
        "**Atividade 15: Desenvolva um programa que leia três notas de um aluno e calcule a média final ponderada dessas notas. Os pesos atribuídos às notas são 2, 3 e 5, respectivamente. Utilize a fórmula para o cálculo da média final ponderada.\n",
        "Ao final exiba suas três notas, a média calculada e uma mensagem \"APROVADO\" se a média for maior ou igual a 5 e \"REPROVADO\" se a média for menor que 5.**"
      ],
      "metadata": {
        "id": "0McEQxq_RSDO"
      }
    },
    {
      "cell_type": "code",
      "source": [
        "nota1 = float(input(\"Digite a primeira nota: \"))\n",
        "nota2 = float(input(\"Digite a segunda nota: \"))\n",
        "nota3 = float(input(\"Digite a terceira nota: \"))\n",
        "peso1 = 2\n",
        "peso2 = 3\n",
        "peso3 = 5\n",
        "media_ponderada = (nota1 * peso1 + nota2 * peso2 + nota3 * peso3) / (peso1 + peso2 + peso3)\n",
        "print(f\"Nota 1: {nota1}\")\n",
        "print(f\"Nota 2: {nota2}\")\n",
        "print(f\"Nota 3: {nota3}\")\n",
        "print(f\"Média Ponderada: {media_ponderada:.2f}\")\n",
        "if media_ponderada >= 5:\n",
        "    print(\"APROVADO\")\n",
        "else:\n",
        "    print(\"REPROVADO\")\n",
        "\n",
        "\n"
      ],
      "metadata": {
        "id": "TRRKewYLRhua"
      },
      "execution_count": null,
      "outputs": []
    },
    {
      "cell_type": "markdown",
      "source": [
        "**Atividade 16: Desenvolva um programa que solicite ao usuário o peso e a altura (em metros), e calcule o Índice de Massa Corporal (IMC) usando a fórmula peso / (altura * altura). Em seguida, crie uma expressão lógica para definir a variável `resultado` com base no IMC: \"Saudável\" se o IMC estiver entre 18.5 e 24.9, \"Abaixo do peso\" se estiver abaixo de 18.5, e \"Acima do peso\" se estiver acima de 24.9. Por fim, imprima a mensagem correspondente à condição do IMC.**"
      ],
      "metadata": {
        "id": "CM_zTVL6UGhT"
      }
    },
    {
      "cell_type": "code",
      "source": [
        "peso = float(input(\"Digite seu peso em Kg: \"))\n",
        "altura = float(input(\"Digite sua altura em metros: \"))\n",
        "imc = peso / (altura*altura)\n",
        "if imc < 18.5:\n",
        "    resultado = \"Abaixo do peso\"\n",
        "elif 18.5 <= imc <= 24.9:\n",
        "    resultado = \"Saudável\"\n",
        "else:\n",
        "    resultado = \"Acima do peso\"\n",
        "print(f\"Seu IMC é {imc:.2f}. Você está {resultado}.\")\n",
        "\n",
        "\n"
      ],
      "metadata": {
        "id": "MqjxFbcOUPoz"
      },
      "execution_count": null,
      "outputs": []
    }
  ]
}