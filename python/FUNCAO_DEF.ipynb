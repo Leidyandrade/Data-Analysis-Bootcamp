{
  "nbformat": 4,
  "nbformat_minor": 0,
  "metadata": {
    "colab": {
      "provenance": [],
      "include_colab_link": true
    },
    "kernelspec": {
      "name": "python3",
      "display_name": "Python 3"
    },
    "language_info": {
      "name": "python"
    }
  },
  "cells": [
    {
      "cell_type": "markdown",
      "metadata": {
        "id": "view-in-github",
        "colab_type": "text"
      },
      "source": [
        "<a href=\"https://colab.research.google.com/github/Leidyandrade/Data-Analysis-Bootcamp/blob/main/python/FUNCAO_DEF.ipynb\" target=\"_parent\"><img src=\"https://colab.research.google.com/assets/colab-badge.svg\" alt=\"Open In Colab\"/></a>"
      ]
    },
    {
      "cell_type": "code",
      "source": [
        "# Funcao sem parametro e sem retorno\n",
        "def minha_funcao():\n",
        "  print(\"Sou uma FUNCAO <3\")"
      ],
      "metadata": {
        "id": "yFb35ddoXhxb"
      },
      "execution_count": 1,
      "outputs": []
    },
    {
      "cell_type": "code",
      "source": [
        "# chamando uma funcao\n",
        "minha_funcao()\n",
        "minha_funcao()"
      ],
      "metadata": {
        "id": "Z3iFdk_nX2I4"
      },
      "execution_count": null,
      "outputs": []
    },
    {
      "cell_type": "code",
      "source": [
        "# Funcao de soma\n",
        "# variavel global - pode ser acessado em qualquer parte do código\n",
        "# variavel loca - só pode ser acessado dentro do bloco onde ela foi definida\n",
        "\n",
        "c = 10\n",
        "\n",
        "def soma():\n",
        "  a = int(input(\"Digite valor a: \")) # local\n",
        "  b = int(input(\"Digite valor b: \")) # local\n",
        "  print(a + b)\n",
        "\n",
        "soma()\n"
      ],
      "metadata": {
        "id": "uUPF-JXkX184"
      },
      "execution_count": null,
      "outputs": []
    },
    {
      "cell_type": "code",
      "source": [
        "# Funcao que cria uma linha decorativa\n",
        "def create_line():\n",
        "  print(\"-\" * 30)\n",
        "\n",
        "create_line()\n",
        "print(\"Finge que tem um texto top aqui... \")\n",
        "create_line()"
      ],
      "metadata": {
        "id": "gl08_EgGZjB8"
      },
      "execution_count": null,
      "outputs": []
    },
    {
      "cell_type": "code",
      "source": [
        "# Funcao que pede um numero e verifica se eh par ou impar\n",
        "def e_par():\n",
        "  num = int(input(\"Digite um numero: \"))\n",
        "  # se o resto da divisao do num por 2 for 0, par\n",
        "  if num % 2 == 0:\n",
        "    print(f\"{num} é um número par!\")\n",
        "  else:\n",
        "    print(f\"{num} é um número impar!\")\n",
        "\n",
        "e_par()"
      ],
      "metadata": {
        "id": "3dt9GJj7aBkb"
      },
      "execution_count": null,
      "outputs": []
    },
    {
      "cell_type": "code",
      "source": [
        "def print_frase(texto):\n",
        "  print(texto)"
      ],
      "metadata": {
        "id": "m6M-IJgucEi-"
      },
      "execution_count": 8,
      "outputs": []
    },
    {
      "cell_type": "code",
      "source": [
        "# Funcao com parametro e sem retorno\n",
        "# exibir uma frase que foi recebido\n",
        "\n",
        "# quando essa função for chamada ela precisa receber um valor,\n",
        "# o valor eh guardado em texto\n",
        "# to declarando um variavel que vai receber uma valor em sua chamada\n",
        "txt = \"Texto aleatório\"\n",
        "\n",
        "print_frase(\"Vai dar certo! \")\n",
        "print_frase(\"Basta manter a constância\")\n",
        "print_frase(\"E não desanimar, mesmo que o cansaço grite\")"
      ],
      "metadata": {
        "id": "taojPFDkXlhT"
      },
      "execution_count": null,
      "outputs": []
    },
    {
      "cell_type": "code",
      "source": [
        "# crie uma funcao que recebe um nome (parametro)\n",
        "# imprima Boas vindas, {nome}\n",
        "def saudacoes(nome):\n",
        "  print(f\"Boas vindas, {nome}\")\n",
        "\n",
        "# Chamando a função\n",
        "# seu proprio nome\n",
        "saudacoes(\"Leidiane\")\n",
        "# outro nome\n",
        "saudacoes(\"Carol\")\n",
        "# nome diferente\n",
        "saudacoes(\"Lílian\")\n"
      ],
      "metadata": {
        "id": "x4DMdpVma50A"
      },
      "execution_count": null,
      "outputs": []
    },
    {
      "cell_type": "code",
      "source": [
        "# Funcao de soma\n",
        "# recebe 2 parametro a e b\n",
        "# print da soma\n",
        "def soma(a, b):\n",
        "  print(f\"A soma de {a} + {b} é: { a + b }\")\n",
        "\n",
        "# Chamando a função\n",
        "soma(6, 7)\n",
        "soma(10,2)"
      ],
      "metadata": {
        "id": "tGCsANi2bCxI"
      },
      "execution_count": null,
      "outputs": []
    },
    {
      "cell_type": "code",
      "source": [
        "# media de notas\n",
        "# a funcao dever receber nota1 e nota2\n",
        "# calcular a media\n",
        "# se media >= 6 aprovado senao reprovado\n",
        "a = 10 # global\n",
        "\n",
        "def media_notas(n1, n2):\n",
        "  media = (n1 + n2) / 2 # local\n",
        "\n",
        "  if media >= 6:\n",
        "    print(\"Aprovado\")\n",
        "  else:\n",
        "    print(\"Reprovado\")\n",
        "\n",
        "\n"
      ],
      "metadata": {
        "id": "wZRHmzpRbEVN"
      },
      "execution_count": null,
      "outputs": []
    },
    {
      "cell_type": "code",
      "source": [
        "media_notas(8, 4)\n",
        "media_notas(5, 5)"
      ],
      "metadata": {
        "id": "1kiHv5p-fjv2"
      },
      "execution_count": null,
      "outputs": []
    },
    {
      "cell_type": "code",
      "source": [
        "# range(1, 10) # 1 - 9\n",
        "# funcao com parametro\n",
        "# recebe recebe fim e inicio, e imprime os valores de inicio ate fim\n",
        "def imprime_list(fim, inicio):\n",
        "  for value in range(inicio, fim + 1): # inicio até literalmente o fim\n",
        "    print(value, end = ' ') # imprime em uma linha só\n",
        "\n",
        "imprime_list(10, 1)"
      ],
      "metadata": {
        "id": "bnAI1_0McRU2"
      },
      "execution_count": null,
      "outputs": []
    },
    {
      "cell_type": "code",
      "source": [
        "# funcao com parametro opcional\n",
        "# recebe recebe fim e inicio, e imprime os valores de inicio ate fim\n",
        "# posso receber fim e inicio, se inicio nao tiver nada, coloca 0 por padrao\n",
        "# agora ela pode receber 2 parametro(fim, inicio) ou 1 parametro(fim)\n",
        "# valor default\n",
        "def imprime_list(fim, inicio = 0):\n",
        "  for value in range(inicio, fim + 1): # inicio até literalmente o fim\n",
        "    print(value, end = ' ') # imprime em uma linha só\n",
        "\n",
        "# imprime_list(80, 75)\n",
        "imprime_list(15)\n",
        "\n",
        "# imprime_list(35,25)"
      ],
      "metadata": {
        "id": "_8aaQ4xziA92"
      },
      "execution_count": null,
      "outputs": []
    },
    {
      "cell_type": "code",
      "source": [
        "# Funcao com parametro e com\n",
        "# recebe um num\n",
        "# retorna v ou f se eh par\n",
        "\n",
        "# está retornando o nosso calculo\n",
        "def eh_impar(num):\n",
        "  if num < 0:\n",
        "    return False\n",
        "\n",
        "  return num % 2 != 0\n",
        "\n",
        "eh_impar(5) # nao esta sendo guardada em uma variável ou nem um print()\n",
        "# só está aparecendo o valor por conta do colab\n",
        "\n",
        "resultado = eh_impar(8) # quando a funcao tiver RETORNO\n",
        "print(f\"Eh impar? {resultado}\")\n",
        "\n",
        "print(f\"Eh impar? { eh_impar(11) }\") # executou mostrou e se perdeu\n"
      ],
      "metadata": {
        "id": "1eCSen3bXsBK"
      },
      "execution_count": null,
      "outputs": []
    },
    {
      "cell_type": "code",
      "source": [
        "# calcula a area do retangulo (base, altura)\n",
        "def area_retangulo(base, altura):\n",
        "  return base * altura\n",
        "\n",
        "resultado = area_retangulo(3,4) # chama a funcao, retorna o calculo e guarda em resultado\n",
        "print(f\"Resultado: {resultado}\")\n",
        "\n",
        "if resultado > 5:\n",
        "  print(\"MAIOR\")\n",
        "\n",
        "# Exemplo Wally pegou o retorno da funcao e calculou + 5\n",
        "print(f\"Retorno + 5: { area_retangulo(2,5) + 5 }\")"
      ],
      "metadata": {
        "id": "0WMc105-gogb"
      },
      "execution_count": null,
      "outputs": []
    },
    {
      "cell_type": "code",
      "source": [
        "# Celsius para fahrenheit\n",
        "def celsius_para_fahrenheit(celsius):\n",
        "  return (celsius * 9/5) + 32\n",
        "\n",
        "# Chamando a função e armazenando o resultado\n",
        "f = celsius_para_fahrenheit(int(input(\"Digite um valor: \")))\n",
        "print(f\"A temperatura em Fahrenheit é: { f }\")"
      ],
      "metadata": {
        "id": "1gn6VddVgwNn"
      },
      "execution_count": null,
      "outputs": []
    },
    {
      "cell_type": "code",
      "source": [
        "#  Criar lista dinamica com inicio e fim\n",
        "def create_list(fim, inicio = 1):\n",
        "            # aonde começa, #onde termina\n",
        "  return list(range(inicio, fim + 1))\n",
        "\n",
        "my_list = create_list(15, 10)\n",
        "print(my_list)"
      ],
      "metadata": {
        "id": "mShJJ07ShGvU"
      },
      "execution_count": null,
      "outputs": []
    },
    {
      "cell_type": "code",
      "source": [
        "# ocorrencias em uma lista\n",
        "# a Funcao irá receber 2 parametros (lista, elemento)\n",
        "# contar quantas vzs o elemento irá aparecer.\n",
        "\n",
        "def contar_ocorrencias(lista, elemento):\n",
        "  # retornar a contagem de vezes do elemento\n",
        "  return lista.count(elemento)\n",
        "\n",
        "# Chamar a funcao\n",
        "ocorrencias = contar_ocorrencias([1,2,2,3,3,1,2,5,4,1,5,4,2,1], 5)\n",
        "print(ocorrencias)\n",
        "\n"
      ],
      "metadata": {
        "id": "OiQ5CuaThygn"
      },
      "execution_count": null,
      "outputs": []
    },
    {
      "cell_type": "code",
      "source": [
        "# Retornar um dicionario, usando os valores recebidos, tenha as chaves nome, tel, email e cpf\n",
        "def dicionario_pessoa(nome, telefone, email):\n",
        "  return {\n",
        "      'nome': nome,\n",
        "      'tel' : telefone,\n",
        "      'email' : email\n",
        "  }\n",
        "\n",
        "lista_pessoas = []\n",
        "\n",
        "for valor in range(3):\n",
        "  nome = input(\"Digite um nome: \")\n",
        "  telefone = input(\"Digite um telefone: \")\n",
        "  email = input(\"Digite um email: \")\n",
        "\n",
        "  lista_pessoas.append(dicionario_pessoa(nome, telefone, email))\n",
        "\n",
        "for valor in lista_pessoas:\n",
        "  print(valor)\n"
      ],
      "metadata": {
        "id": "gFFn9IroaHhf"
      },
      "execution_count": null,
      "outputs": []
    },
    {
      "cell_type": "code",
      "source": [
        "def retorna_quando():\n",
        "  return \"20:25\"\n",
        "\n",
        "print(retorna_quando())"
      ],
      "metadata": {
        "id": "fyuqi7ERbcve"
      },
      "execution_count": null,
      "outputs": []
    }
  ]
}