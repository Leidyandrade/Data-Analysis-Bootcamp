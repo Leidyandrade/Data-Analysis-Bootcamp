{
  "nbformat": 4,
  "nbformat_minor": 0,
  "metadata": {
    "colab": {
      "provenance": [],
      "authorship_tag": "ABX9TyPaMz4r0+le9N7Ed692RErM",
      "include_colab_link": true
    },
    "kernelspec": {
      "name": "python3",
      "display_name": "Python 3"
    },
    "language_info": {
      "name": "python"
    }
  },
  "cells": [
    {
      "cell_type": "markdown",
      "metadata": {
        "id": "view-in-github",
        "colab_type": "text"
      },
      "source": [
        "<a href=\"https://colab.research.google.com/github/Leidyandrade/Data-Analysis-Bootcamp/blob/main/python/est_cond.ipynb\" target=\"_parent\"><img src=\"https://colab.research.google.com/assets/colab-badge.svg\" alt=\"Open In Colab\"/></a>"
      ]
    },
    {
      "cell_type": "code",
      "execution_count": null,
      "metadata": {
        "collapsed": true,
        "id": "dEs1GtHM2RpK"
      },
      "outputs": [],
      "source": [
        "count = 10\n",
        "while count <= 50:\n",
        "  print(count)\n",
        "  count += 5\n"
      ]
    },
    {
      "cell_type": "code",
      "source": [],
      "metadata": {
        "id": "xka8XvDJIMYu"
      },
      "execution_count": null,
      "outputs": []
    },
    {
      "cell_type": "code",
      "source": [
        "numero = int(input(\"Digite um número positivo: \"))\n",
        "while numero <= 0:\n",
        "    numero = int(input(\"Não foi desta vez.Tente novamente! \"))\n",
        "print(f\"Muito bem! Você digitou um número positivo {numero}\")"
      ],
      "metadata": {
        "collapsed": true,
        "id": "v2gSYsrJINkV"
      },
      "execution_count": null,
      "outputs": []
    },
    {
      "cell_type": "code",
      "source": [
        "for valor in range(5 ,31 , 2):\n",
        "  print(valor, end = ' ')"
      ],
      "metadata": {
        "id": "j5KAEaiiJAld"
      },
      "execution_count": null,
      "outputs": []
    },
    {
      "cell_type": "code",
      "source": [
        "soma = 0 #recebe a soma\n",
        "#para cada valor no meu intervalo faça:\n",
        "for i in range(1 , 10):\n",
        "  soma = soma + valor\n",
        "  print(soma)\n",
        "  print(f'A soma dos números é {soma} : ')\n"
      ],
      "metadata": {
        "collapsed": true,
        "id": "fHbjq4GcVil7"
      },
      "execution_count": null,
      "outputs": []
    },
    {
      "cell_type": "code",
      "source": [
        "txt = 'Python'\n",
        "#para acessar cada caractere dentro da string\n",
        "for char in txt:\n",
        "  print(char)"
      ],
      "metadata": {
        "id": "TkVBPqmhW7Kt"
      },
      "execution_count": null,
      "outputs": []
    }
  ]
}