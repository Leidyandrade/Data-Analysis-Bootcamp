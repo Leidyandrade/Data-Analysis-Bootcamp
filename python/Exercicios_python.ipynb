{
  "nbformat": 4,
  "nbformat_minor": 0,
  "metadata": {
    "colab": {
      "provenance": [],
      "include_colab_link": true
    },
    "kernelspec": {
      "name": "python3",
      "display_name": "Python 3"
    },
    "language_info": {
      "name": "python"
    }
  },
  "cells": [
    {
      "cell_type": "markdown",
      "metadata": {
        "id": "view-in-github",
        "colab_type": "text"
      },
      "source": [
        "<a href=\"https://colab.research.google.com/github/Leidyandrade/Data-Analysis-Bootcamp/blob/main/python/Exercicios_python.ipynb\" target=\"_parent\"><img src=\"https://colab.research.google.com/assets/colab-badge.svg\" alt=\"Open In Colab\"/></a>"
      ]
    },
    {
      "cell_type": "code",
      "execution_count": null,
      "metadata": {
        "id": "TWWJZyedePRn"
      },
      "outputs": [],
      "source": []
    },
    {
      "cell_type": "markdown",
      "source": [
        "EXERCICIO 1\n",
        "\n",
        "Crie variáveis chamdas nome, idade, email, e telefone.\n",
        "Imprima os dados como se fosse uma espécie de contato:\n",
        "\n",
        "Nome Completo: X\n",
        "idade: X anos\n",
        "email: X\n",
        "telefone: X"
      ],
      "metadata": {
        "id": "_-gwjeWfiYzf"
      }
    },
    {
      "cell_type": "code",
      "source": [
        "Nome = \"Eduarda Andrade\"\n",
        "Idade = 15\n",
        "Email = \"turma1@soulcode\"\n",
        "Telefone = 11959438204\n",
        "\n",
        "print(f\"Nome Completo: {Nome}\\nIdade: {Idade} anos\\nEmail: {Email}\\nTelefone: {Telefone}\")\n"
      ],
      "metadata": {
        "id": "n5BpkUTvenMy"
      },
      "execution_count": null,
      "outputs": []
    },
    {
      "cell_type": "markdown",
      "source": [
        "EXERCICIO 2\n",
        "\n",
        "Crie uma variável chamada x e atribua um valor.\n",
        "Crie outra variável chamada y um valor Calcule a divisão inteira de x por y e armazene o resultado na variável divisao_inteira.\n",
        "Imprima o valor de divisao_inteira."
      ],
      "metadata": {
        "id": "pqvKWgz4i2uG"
      }
    },
    {
      "cell_type": "code",
      "source": [
        "x = 10\n",
        "y = 20\n",
        "div = x / y\n",
        "resultado = div\n",
        "print(div)"
      ],
      "metadata": {
        "id": "CDuLcLhffxmC"
      },
      "execution_count": null,
      "outputs": []
    },
    {
      "cell_type": "markdown",
      "source": [
        "EXERCICIO 3\n",
        "\n",
        "Crie uma variável chamada preco e outra quantidade, atribua valores. Calcule o custo total e armazene em uma variável chamada total. Imprima o total. (BIANCA)"
      ],
      "metadata": {
        "id": "XVUgabPsf7Wc"
      }
    },
    {
      "cell_type": "code",
      "source": [
        "Preco = 2.50\n",
        "Quantidade = 10\n",
        "Total =(Preco * Quantidade)\n",
        "print(Total)\n",
        "print (f\" o Total é {round(Total,2)}\")"
      ],
      "metadata": {
        "id": "A79E2m0mfxCa"
      },
      "execution_count": null,
      "outputs": []
    },
    {
      "cell_type": "markdown",
      "source": [
        "EXERCICIO 4\n",
        "\n",
        " Crie uma variável chamada a e atribua a ela um valor. Crie outra variável chamada b e atribua a ela um valor. Calcule a diferença entre a e b, depois multiplique o resultado por b e armazene o resultado final na variável resultado. Imprima o valor de resultado.\n"
      ],
      "metadata": {
        "id": "z5lyCYvLjEd1"
      }
    },
    {
      "cell_type": "code",
      "source": [
        "a = 7\n",
        "b = 16\n",
        "diferenca = a - b\n",
        "resultado = diferenca * b\n",
        "print('O valor de resultado é:', resultado)"
      ],
      "metadata": {
        "id": "eZuHuhzsjC94"
      },
      "execution_count": null,
      "outputs": []
    },
    {
      "cell_type": "markdown",
      "source": [
        "EXERCICIO 5\n",
        "\n",
        "Crie uma variável celsius e atribua um valor. Converta esse valor para Fahrenheit e armazene o resultado na variável fahrenheit.\n",
        "A fórmula de conversão é F = C * 9/5 + 32. Imprima o valor em Fahrenheit e o valor em Celsius."
      ],
      "metadata": {
        "id": "VY5vLD8yjCVX"
      }
    },
    {
      "cell_type": "code",
      "source": [
        "celsius = 10\n",
        "fahrenheit = celsius * 9/5 + 32\n",
        "print(f\"Temperatura em Fahrenheit: {fahrenheit}\")\n",
        "print(f\"Temperatura em Celsius: {celsius}\")"
      ],
      "metadata": {
        "id": "KZbOX8GIjWYW"
      },
      "execution_count": null,
      "outputs": []
    },
    {
      "cell_type": "markdown",
      "source": [
        "EXERCICIO 6"
      ],
      "metadata": {
        "id": "cZMywYdUgnal"
      }
    },
    {
      "cell_type": "markdown",
      "source": [
        "Crie uma variável chamada numero1 e outra chamada numero2, atribua valores.\n",
        "Calcule o resto da divisão de numero1 por numero2 e armazene o resultado na variável resto.\n",
        "Imprima o resto. Lembre do operador para isso."
      ],
      "metadata": {
        "id": "EUuOPIuqf8W5"
      }
    },
    {
      "cell_type": "code",
      "source": [
        "numero1 = 17\n",
        "numero2 = 3\n",
        "resto = numero1 % numero2\n",
        "print(f\"O resto da divisão é {resto}\")\n"
      ],
      "metadata": {
        "id": "orf6TlK4gu73"
      },
      "execution_count": null,
      "outputs": []
    },
    {
      "cell_type": "markdown",
      "source": [
        "EXERCICIO 7\n",
        "\n",
        "Crie uma variável chamada distancia_km e atribua a ela um valor.\n",
        "Converta essa distância para milhas, sabendo que 1 km é aproximadamente 0.621371 milhas, e armazene o resultado na variável distancia_milhas.\n",
        "Imprima a distância em milhas."
      ],
      "metadata": {
        "id": "L7k5Xs3Ejr_D"
      }
    },
    {
      "cell_type": "code",
      "source": [
        "distancia_km = 2.00\n",
        "distancia_milhas = distancia_km * 0.621371\n",
        "\n",
        "print(f\"A distancia em milhas é: {distancia_milhas}\")"
      ],
      "metadata": {
        "id": "qO4c5_Fvjp5x"
      },
      "execution_count": null,
      "outputs": []
    },
    {
      "cell_type": "markdown",
      "source": [
        "EXERCICIO 8\n",
        "\n",
        "Crie uma variável chamada raio e atribua a ela o valor 7.\n",
        "Calcule a área de um círculo utilizando a fórmula A = pi * r elevado a 2 (use 3.14159 para pi) e armazene o resultado na variável area_circulo.\n",
        "Imprima a área."
      ],
      "metadata": {
        "id": "cv5WtWUBj2mP"
      }
    },
    {
      "cell_type": "code",
      "source": [
        "raio = 7\n",
        "pi = 3.14159\n",
        "\n",
        "area_circulo = ( raio* pi ** 2)\n",
        "print (f\"A área do círculo é {area_circulo:.3f}\")"
      ],
      "metadata": {
        "id": "6frsqxAvj14P"
      },
      "execution_count": null,
      "outputs": []
    }
  ]
}