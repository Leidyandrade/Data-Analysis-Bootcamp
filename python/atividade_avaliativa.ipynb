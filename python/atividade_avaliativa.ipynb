{
  "nbformat": 4,
  "nbformat_minor": 0,
  "metadata": {
    "colab": {
      "provenance": [],
      "name": "atividade_avaliativa.ipynb",
      "include_colab_link": true
    },
    "kernelspec": {
      "name": "python3",
      "display_name": "Python 3"
    },
    "language_info": {
      "name": "python"
    }
  },
  "cells": [
    {
      "cell_type": "markdown",
      "metadata": {
        "id": "view-in-github",
        "colab_type": "text"
      },
      "source": [
        "<a href=\"https://colab.research.google.com/github/Leidyandrade/Data-Analysis-Bootcamp/blob/main/python/atividade_avaliativa.ipynb\" target=\"_parent\"><img src=\"https://colab.research.google.com/assets/colab-badge.svg\" alt=\"Open In Colab\"/></a>"
      ]
    },
    {
      "cell_type": "markdown",
      "source": [
        "# 1 - Variáveis e Tipos de Dados"
      ],
      "metadata": {
        "id": "uxGISqtR2yNT"
      }
    },
    {
      "cell_type": "code",
      "execution_count": null,
      "metadata": {
        "id": "tLS0FEGj2rS7"
      },
      "outputs": [],
      "source": [
        "'''\n",
        "1.1. Crie variáveis para armazenar o nome, idade, peso e altura de uma pessoa.\n",
        "Imprima os valores e os tipos de dados dessas variáveis.\n",
        "'''\n",
        "\n",
        "nome = \"Ariella\"\n",
        "idade = 5\n",
        "peso = 17.2\n",
        "altura = 1.00\n",
        "\n",
        "print(\"Nome:\",nome,type(nome))\n",
        "print(\"Idade:\",idade,type(idade))\n",
        "print(\"Peso:\",peso,type(peso))\n",
        "print(\"Altura:\",altura,type(altura))"
      ]
    },
    {
      "cell_type": "code",
      "source": [
        "'''\n",
        "1.2. Atualize a variável de peso para um valor diferente e imprima o novo valor.\n",
        "'''\n",
        "\n",
        "nome = \"Ariella\"\n",
        "idade = 5\n",
        "peso = 17.2\n",
        "altura = 1.00\n",
        "\n",
        "print(\"Nome:\",nome,type(nome))\n",
        "print(\"Idade:\",idade,type(idade))\n",
        "print(\"Peso:\",peso,type(peso))\n",
        "print(\"Altura:\",altura,type(altura))\n",
        "\n",
        "peso_atual = 20\n",
        "print(\"Peso Atual:\",peso_atual,type(peso_atual))"
      ],
      "metadata": {
        "id": "VFVgrodF27TT"
      },
      "execution_count": null,
      "outputs": []
    },
    {
      "cell_type": "markdown",
      "source": [
        "# 2 - Operadores Matemáticos"
      ],
      "metadata": {
        "id": "RRRbkSkr3Ajw"
      }
    },
    {
      "cell_type": "code",
      "source": [
        "'''\n",
        "2.1. Crie uma variável a com valor 10 e uma variável b com valor 3. Realize as\n",
        "seguintes operações e imprima os resultados:\n",
        "Soma\n",
        "Subtração\n",
        "Multiplicação\n",
        "Divisão\n",
        "Parte inteira da divisão\n",
        "Resto da divisão\n",
        "Exponenciação\n",
        "'''\n",
        "\n",
        "\n",
        "a = 10\n",
        "b = 3\n",
        "\n",
        "soma = a+b\n",
        "subtracao = a-b\n",
        "multiplicacao = a*b\n",
        "divisao = a/b\n",
        "parte_inteira_div = a//b\n",
        "resto_div = a%b\n",
        "exponenciacao = a**b\n",
        "\n",
        "print(\"Soma:\", soma)\n",
        "print(\"Subtração:\", subtracao)\n",
        "print(\"Multiplicação:\", multiplicacao)\n",
        "print(\"Divisão:\", divisao)\n",
        "print(\"Parte inteira da divisão:\", parte_inteira_div)\n",
        "print(\"Resto da divisão:\", resto_div)\n",
        "print(\"Exponenciação:\", exponenciacao)"
      ],
      "metadata": {
        "id": "hHAztIDU3AJP"
      },
      "execution_count": null,
      "outputs": []
    },
    {
      "cell_type": "markdown",
      "source": [
        "# 3 - Entrada de Dados pelo Usuário\n"
      ],
      "metadata": {
        "id": "jWJt5Ep23OFd"
      }
    },
    {
      "cell_type": "code",
      "source": [
        "'''\n",
        "3.1. Peça ao usuário para digitar seu nome e armazene em uma variável. Imprima\n",
        "uma mensagem de boas-vindas usando o nome fornecido.\n",
        "'''\n",
        "\n",
        "\n",
        "nome = input(\"Digite seu nome:\")\n",
        "print(\"Olá, Seja bem vindo(a)\", nome)\n",
        "\n"
      ],
      "metadata": {
        "id": "IiD6jUJh3eiD"
      },
      "execution_count": null,
      "outputs": []
    },
    {
      "cell_type": "code",
      "source": [
        "'''\n",
        "3.2. Peça ao usuário para digitar sua idade, peso e altura. Calcule o IMC e\n",
        "imprima o resultado arredondado para três casas decimais.\n",
        "'''\n",
        "\n",
        "\n",
        "idade = int(input(\"Digite a sua idade: \"))\n",
        "peso = float(input(\"Digite o seu peso: \"))\n",
        "altura = float(input(\"Digite a sua altura: \"))\n",
        "\n",
        "imc = peso / (altura ** 2)\n",
        "\n",
        "print(\"O seu IMC é: \", round(imc, 3))"
      ],
      "metadata": {
        "id": "Y4kz72aR3k8d"
      },
      "execution_count": null,
      "outputs": []
    },
    {
      "cell_type": "markdown",
      "source": [
        "# 4 - Função de Impressão"
      ],
      "metadata": {
        "id": "zqRV3Plv3pjL"
      }
    },
    {
      "cell_type": "code",
      "source": [
        "'''\n",
        "4.1. Peça ao usuário para digitar um número e imprima o número digitado.\n",
        "'''\n",
        "\n",
        "\n",
        "numero = int(input(\"Digite um número: \"))\n",
        "print(\"O número digitado foi:\", numero)"
      ],
      "metadata": {
        "id": "N5AbRV3i3vYV"
      },
      "execution_count": null,
      "outputs": []
    },
    {
      "cell_type": "code",
      "source": [
        "'''\n",
        "4.2. Peça ao usuário para digitar dois números e imprima a soma deles.\n",
        "'''\n",
        "\n",
        "\n",
        "numero1 = int(input(\"Digite o primeiro número: \"))\n",
        "numero2 = int(input(\"Digite o segundo número: \"))\n",
        "soma = numero1 + numero2\n",
        "\n",
        "print(\"A soma dos números é:\", soma)"
      ],
      "metadata": {
        "id": "qM2ocOFl3vpB"
      },
      "execution_count": null,
      "outputs": []
    },
    {
      "cell_type": "markdown",
      "source": [
        "# 5 - Métodos de Strings"
      ],
      "metadata": {
        "id": "RWwlLaOu35jq"
      }
    },
    {
      "cell_type": "code",
      "source": [
        "'''\n",
        "5.1. Peça ao usuário para digitar um e-mail e verifique se o e-mail contém o\n",
        "caractere '@'. Imprima uma mensagem indicando se é um e-mail válido ou não.\n",
        "'''\n",
        "\n",
        "\n",
        "email = input(\"Digite seu email:\")\n",
        "if \"@\" in email:\n",
        "    print(\"Email válido\")\n",
        "else:\n",
        "    print(\"O email é inválido!\")\n",
        "\n",
        "\n"
      ],
      "metadata": {
        "id": "PnAPaeXY3-dA"
      },
      "execution_count": null,
      "outputs": []
    },
    {
      "cell_type": "code",
      "source": [
        "'''\n",
        "5.2. Peça ao usuário para digitar uma frase e:\n",
        "Converta a frase para maiúsculas.\n",
        "Converta a frase para minúsculas.\n",
        "Converta a primeira letra de cada palavra para maiúscula.\n",
        "Verifique se a frase começa com uma determinada palavra (ex.: 'Olá').\n",
        "'''\n",
        "\n",
        "\n",
        "frase = input(\"Digite uma frase:\")\n",
        "\n",
        "frase_maiuscula = frase.upper()\n",
        "frase_minuscula = frase.lower()\n",
        "frase_convert = frase.title()\n",
        "frase_inicio = frase.startswith(\"Bom dia\")\n",
        "\n",
        "print(\"Frase maiúsculas:\", frase_maiuscula)\n",
        "print(\"Frase minúscula:\", frase_minuscula)\n",
        "print(\"Primeira letra convertida para maiúscula.:\", frase_convert)\n",
        "print(\"A frase começa com a palavra Bom dia? \", frase_inicio)\n",
        "\n",
        "\n"
      ],
      "metadata": {
        "id": "nkwe0I9c3-w-"
      },
      "execution_count": null,
      "outputs": []
    },
    {
      "cell_type": "markdown",
      "source": [
        "# 6 - Listas"
      ],
      "metadata": {
        "id": "HZQlB-8K4snX"
      }
    },
    {
      "cell_type": "code",
      "source": [
        "'''\n",
        "6.1. Crie uma lista com os nomes de cinco amigos. Imprima o nome do terceiro\n",
        "amigo na lista.\n",
        "\n",
        "'''\n",
        "\n",
        "\n",
        "amigos = [\"Kallel\", \"Gabriel\", \"Eduarda\", \"Ariella\", \"Manuela\"]\n",
        "print(\"O terceiro amigo da lista é:\", amigos[2])\n"
      ],
      "metadata": {
        "id": "3_3JLvXZ4sBG"
      },
      "execution_count": null,
      "outputs": []
    },
    {
      "cell_type": "code",
      "source": [
        "'''\n",
        "6.2. Adicione um novo nome à lista de amigos e remova o primeiro nome.\n",
        "Imprima a lista atualizada.\n",
        "'''\n",
        "\n",
        "\n",
        "amigos = [\"Kallel\", \"Gabriel\", \"Eduarda\", \"Ariella\", \"Manuela\"]\n",
        "amigos.append(\"Ravi\")\n",
        "amigos.pop(0)\n",
        "print(\"Lista atualizada:\", amigos)\n",
        "\n"
      ],
      "metadata": {
        "id": "ppcjLqMb4yDu"
      },
      "execution_count": null,
      "outputs": []
    },
    {
      "cell_type": "code",
      "source": [
        "'''\n",
        "6.3. Crie uma lista com as idades dos seus amigos e:\n",
        "Imprima a idade do amigo mais velho.\n",
        "Imprima a idade do amigo mais novo.\n",
        "Calcule e imprima a soma das idades.\n",
        "'''\n",
        "\n",
        "\n",
        "idade_migles = [36,35,40,34,30,25]\n",
        "idade_mais_velho = max(idade_migles)\n",
        "idade_mais_novo = min(idade_migles)\n",
        "soma_idades = sum(idade_migles)\n",
        "\n",
        "print(\"A idade do amigo mais velho é:\" , idade_mais_velho)\n",
        "print(\"A idade do amigo mais novo é:\" , idade_mais_novo)\n",
        "print(\"A soma da idade deles é:\" , soma_idades)\n"
      ],
      "metadata": {
        "id": "Hoz7RcUW4zc4"
      },
      "execution_count": null,
      "outputs": []
    },
    {
      "cell_type": "markdown",
      "source": [
        "# 7 - Tuplas"
      ],
      "metadata": {
        "id": "9WTzsCNH4-tT"
      }
    },
    {
      "cell_type": "code",
      "source": [
        "'''\n",
        "7.1 Crie uma tupla com as informações de um cliente (nome, idade, peso, altura).\n",
        "Imprima todas as informações.\n",
        "'''\n",
        "\n",
        "\n",
        "cliente = (\"Ariella Andrade\", 5, 17.2, 1.00)\n",
        "\n",
        "nome, idade, peso, altura = cliente\n",
        "\n",
        "print(f\"Nome: {nome}\")\n",
        "print(f\"Idade: {idade} anos\")\n",
        "print(f\"Peso: {peso} kg\")\n",
        "print(f\"Altura: {altura} m\")\n"
      ],
      "metadata": {
        "id": "XpWW7G-p5BOJ"
      },
      "execution_count": null,
      "outputs": []
    },
    {
      "cell_type": "code",
      "source": [
        "'''\n",
        "7.2. Crie uma nova tupla concatenando a tupla do exercício anterior com o e-mail\n",
        "do cliente. Imprima a nova tupla.\n",
        "'''\n",
        "\n",
        "\n",
        "cliente = (\"Ariella Andrade\", 5, 17.2, 1.00)\n",
        "\n",
        "nome, idade, peso, altura = cliente\n",
        "\n",
        "email = \"ariela_andrade@gmail.com\"\n",
        "cliente_com_email = cliente + (email,)\n",
        "\n",
        "print(f\"Nome: {nome}\")\n",
        "print(f\"Idade: {idade} anos\")\n",
        "print(f\"Peso: {peso} kg\")\n",
        "print(f\"Altura: {altura} m\")\n",
        "print(f\"Email: {email}\")\n",
        "\n",
        "\n"
      ],
      "metadata": {
        "id": "tIzWFwzc5GQ8"
      },
      "execution_count": null,
      "outputs": []
    },
    {
      "cell_type": "markdown",
      "source": [
        "# 8 - Dicionários"
      ],
      "metadata": {
        "id": "-zg06dPu5ZJC"
      }
    },
    {
      "cell_type": "code",
      "source": [
        "'''\n",
        "8.1. Crie um dicionário com informações de um cliente\n",
        "(nome, idade, peso, altura). Imprima o valor associado à chave 'nome'.\n",
        "'''\n",
        "\n",
        "cliente = {\n",
        "    \"nome\": \"Ariella Andrade\" ,\n",
        "    \"idade\": 5,\n",
        "    \"peso\": 17.2,\n",
        "    \"altura\": 1.00\n",
        "}\n",
        "print(\"O nome do cliente é:\", cliente[\"nome\"])"
      ],
      "metadata": {
        "id": "E_wd3pdX5clA"
      },
      "execution_count": null,
      "outputs": []
    },
    {
      "cell_type": "code",
      "source": [
        "'''\n",
        "8.2. Adicione uma nova chave 'email' ao dicionário do exercício anterior e\n",
        "imprima o dicionário atualizado.\n",
        "'''\n",
        "\n",
        "\n",
        "cliente = {\n",
        "    \"nome\": \"Ariella Andrade\" ,\n",
        "    \"idade\": 5,\n",
        "    \"peso\": 17.2,\n",
        "    \"altura\": 1.00\n",
        "}\n",
        "cliente['email'] = \"ariella_andrade@gmail.com\"\n",
        "print(cliente)"
      ],
      "metadata": {
        "id": "kM-tUW7o5eK7"
      },
      "execution_count": null,
      "outputs": []
    },
    {
      "cell_type": "code",
      "source": [
        "'''\n",
        "8.3. Remova a chave 'peso' do dicionário e verifique se a chave 'endereço' está\n",
        "no dicionário. Imprima os resultados.\n",
        "'''\n",
        "\n",
        "\n",
        "cliente = {\n",
        "    \"nome\": \"Ariella Andrade\" ,\n",
        "    \"idade\": 5,\n",
        "    \"peso\": 17.2,\n",
        "    \"altura\": 1.00\n",
        "}\n",
        "cliente['email'] = \"ariella_andrade@gmail.com\"\n",
        "print(cliente)\n",
        "cliente.pop(\"peso\")\n",
        "tem_endereço = \"endereço\" in cliente\n",
        "print(\"A chave endereço está no dicionário?\", tem_endereço)"
      ],
      "metadata": {
        "id": "xFhFuFOV5ffs"
      },
      "execution_count": null,
      "outputs": []
    },
    {
      "cell_type": "markdown",
      "source": [
        "# 9 - Controle de Fluxo"
      ],
      "metadata": {
        "id": "zDOsohbe5sjQ"
      }
    },
    {
      "cell_type": "code",
      "source": [
        "'''\n",
        "9.1. Peça ao usuário para digitar sua idade e verifique se ele é menor de idade,\n",
        " adulto ou idoso. Imprima uma mensagem correspondente.\n",
        "'''\n",
        "\n",
        "\n",
        "idade = int(input(\"Digite a sua idade:\"))\n",
        "if idade < 18:\n",
        "    print(\"Você é menor de idade!\")\n",
        "elif 18 <= idade < 60:\n",
        "    print(\"Você é adulto!\")\n",
        "else:\n",
        "    print(\"Você é idoso!\")"
      ],
      "metadata": {
        "id": "efFgv5Xx5wFC"
      },
      "execution_count": null,
      "outputs": []
    },
    {
      "cell_type": "code",
      "source": [
        "# Condicionais\n",
        "'''\n",
        "9.2. Peça ao usuário para digitar uma nota (0 a 100) e imprima se ele foi\n",
        "aprovado (nota >= 60) ou reprovado.\n",
        "'''\n",
        "\n",
        "\n",
        "nota = int(input(\"Digite a sua nota:\"))\n",
        "if nota >= 60:\n",
        "    print(\"Você foi aprovado(a)!\")\n",
        "else:\n",
        "    print(\"Você foi reprovado(a)!\")\n"
      ],
      "metadata": {
        "id": "pse5b4NO52OP"
      },
      "execution_count": null,
      "outputs": []
    },
    {
      "cell_type": "code",
      "source": [
        "# Loop For\n",
        "'''\n",
        "9.3. Crie uma lista com os nomes de cinco cidades. Use um loop for para imprimir\n",
        "cada nome de cidade.\n",
        "'''\n",
        "\n",
        "cidades = [\"Nova Iguaçu\", \"Mesquita\", \"Mangaratiba\", \"Arraial do cabo\", \"Maricá\"]\n",
        "for cidade in cidades:\n",
        "    print(cidade)"
      ],
      "metadata": {
        "id": "inMnGHFy525K"
      },
      "execution_count": null,
      "outputs": []
    },
    {
      "cell_type": "code",
      "source": [
        "# Loop For\n",
        "'''\n",
        "9.4. Crie uma lista com os números de 1 a 10. Use um loop for para imprimir o\n",
        "quadrado de cada número.\n",
        "'''\n",
        "\n",
        "numeros = [1,2,3,4,5,6,77,8,9,10]\n",
        "for numero in numeros:\n",
        "    quadrado = numero ** 2\n",
        "    print(f\"O quadrado de {numero} é {quadrado}\")\n"
      ],
      "metadata": {
        "id": "GitTfGfM539Y"
      },
      "execution_count": null,
      "outputs": []
    },
    {
      "cell_type": "markdown",
      "source": [
        "# 10 - Estudo de caso 01"
      ],
      "metadata": {
        "id": "_vJUEjo_6mWX"
      }
    },
    {
      "cell_type": "code",
      "source": [
        "'''\n",
        "Contexto:\n",
        "Uma empresa precisa registrar informações sobre seus clientes e calcular o IMC\n",
        "(Índice de Massa Corporal) de cada um deles. As informações devem ser\n",
        "armazenadas em um dicionário e exibidas ao final.\n",
        "'''\n",
        "\n",
        "\n",
        "'''\n",
        "Requisitos:\n",
        "Peça ao usuário para inserir os seguintes dados de um cliente:\n",
        "Nome\n",
        "Idade\n",
        "Peso (em kg)\n",
        "Altura (em metros)\n",
        "E-mail\n",
        "Armazene essas informações em um dicionário.\n",
        "Calcule o IMC do cliente (IMC = Peso / (Altura * Altura)) e adicione esse valor ao dicionário.\n",
        "Exiba todas as informações do cliente, incluindo o IMC arredondado para duas casas decimais.\n",
        "\n",
        "'''\n",
        "\n",
        "nome = input(\"Digite o nome do cliente: \")\n",
        "idade = int(input(\"Digite a idade do cliente: \"))\n",
        "peso = float(input(\"Digite o peso do cliente (em kg): \"))\n",
        "altura = float(input(\"Digite a altura do cliente (em metros): \"))\n",
        "email = input(\"Digite o e-mail do cliente: \")\n",
        "\n",
        "cliente = {\n",
        "    \"nome\": nome,\n",
        "    \"idade\": idade,\n",
        "    \"peso\": peso,\n",
        "    \"altura\": altura,\n",
        "    \"email\": email,\n",
        "    \"IMC\": round(imc, 2)\n",
        "    }\n",
        "\n",
        "print(\"\\nInformações do Cliente:\")\n",
        "for chave, valor in cliente.items():\n",
        "    print(f\"{chave}: {valor}\")\n"
      ],
      "metadata": {
        "id": "llIsNhsG6l_z"
      },
      "execution_count": null,
      "outputs": []
    },
    {
      "cell_type": "markdown",
      "source": [
        "# 11 - Estudo de Caso 02"
      ],
      "metadata": {
        "id": "_Yi8lRKQ68B3"
      }
    },
    {
      "cell_type": "code",
      "source": [
        "'''\n",
        "Contexto:\n",
        "Uma escola precisa analisar as notas de seus alunos e determinar se cada aluno\n",
        "foi aprovado ou reprovado. As notas serão armazenadas em uma lista e a análise\n",
        "deve ser realizada em um loop.\n",
        "'''\n",
        "\n",
        "'''\n",
        "Requisitos:\n",
        "Peça ao usuário para inserir o nome e a nota de cinco alunos.\n",
        "Armazene os nomes e as notas em listas separadas.\n",
        "Atencao, como sao listas separadas, considere que as posicoes de alunos\n",
        "e notas sao as mesmas.\n",
        "\n",
        "  Ex: notas = [10 , 9]\n",
        "     alunos = ['A','B']\n",
        "      posicoes  0   1\n",
        "\n",
        "  Aluno A nota 10\n",
        "  Aluno B nota 9\n",
        "\n",
        "Para cada aluno, verifique se a nota é maior ou igual a 60. Se sim, o aluno está\n",
        "aprovado; caso contrário, está reprovado.\n",
        "Exiba uma mensagem para cada aluno informando seu nome, nota e se foi aprovado\n",
        "ou reprovado.\n",
        "'''\n",
        "\n",
        "nomes = []\n",
        "notas = []\n",
        "\n",
        "for i in range(5):\n",
        "    nome = input(f\"Digite o nome do aluno {i+1}: \")\n",
        "    nota = float(input(f\"Digite a nota de {nome}: \"))\n",
        "    nomes.append(nome)\n",
        "    notas.append(nota)\n",
        "\n",
        "print(\"\\nResultado da análise:\")\n",
        "for i in range(5):\n",
        "    status = \"aprovado\" if notas[i] >= 60 else \"reprovado\"\n",
        "    print(f\"O aluno {nomes[i]} obteve nota {notas[i]} e foi {status}.\")\n",
        "\n",
        "\n"
      ],
      "metadata": {
        "id": "mrqCtmjg6_It"
      },
      "execution_count": null,
      "outputs": []
    },
    {
      "cell_type": "markdown",
      "source": [
        "# 12 - Estudo de caso 03"
      ],
      "metadata": {
        "id": "DoDAFqG37QWG"
      }
    },
    {
      "cell_type": "code",
      "source": [
        "\n",
        "'''\n",
        "Contexto\n",
        "Uma empresa deseja realizar uma pesquisa de opinião com cinco participantes\n",
        "sobre um novo produto. As respostas devem ser armazenadas e analisadas para\n",
        "verificar a satisfação dos clientes.\n",
        "'''\n",
        "\n",
        "'''\n",
        "Requisitos\n",
        "Peça ao usuário para inserir o nome e a opinião (satisfeito/insatisfeito) de\n",
        "cinco participantes.\n",
        "Armazene os nomes e as opiniões em um dicionário. Mesma lógica da questão anterior.\n",
        "Conte o número de participantes satisfeitos e insatisfeitos.\n",
        "Exiba a lista de participantes satisfeitos e insatisfeitos, bem como o número\n",
        "total de cada categoria.\n",
        "'''\n",
        "\n",
        "opiniao_participantes = {}\n",
        "\n",
        "for i in range(5):\n",
        "    nome = input(f\"Digite o nome do participante {i+1}: \")\n",
        "    opiniao = input(f\"{nome} está satisfeito ou insatisfeito? \").strip().lower()\n",
        "\n",
        "    while opiniao not in [\"satisfeito\", \"insatisfeito\"]:\n",
        "        print(\"Opinião inválida! Por favor, insira 'satisfeito' ou 'insatisfeito'.\")\n",
        "        opiniao = input(f\"{nome} está satisfeito ou insatisfeito? \").strip().lower()\n",
        "\n",
        "    opiniao_participantes[nome] = opiniao\n",
        "\n",
        "satisfeitos = [nome for nome, opiniao in opiniao_participantes.items() if opiniao == \"satisfeito\"]\n",
        "insatisfeitos = [nome for nome, opiniao in opiniao_participantes.items() if opiniao == \"insatisfeito\"]\n",
        "\n",
        "print(\"\\nResultados da Pesquisa:\")\n",
        "print(f\"Participantes satisfeitos ({len(satisfeitos)}): {', '.join(satisfeitos) if satisfeitos else 'Nenhum'}\")\n",
        "print(f\"Participantes insatisfeitos ({len(insatisfeitos)}): {', '.join(insatisfeitos) if insatisfeitos else 'Nenhum'}\")\n"
      ],
      "metadata": {
        "id": "34JqxL0B7Tvj"
      },
      "execution_count": null,
      "outputs": []
    },
    {
      "cell_type": "markdown",
      "source": [
        "# 13 - Funcões"
      ],
      "metadata": {
        "id": "bjjiIDp3igK2"
      }
    },
    {
      "cell_type": "code",
      "source": [
        "'''\n",
        "Escreva um função que receba um número inteiro e imprima o mês\n",
        "correspondente ao número. Por exemplo, 2 corresponde à “fevereiro”. A função\n",
        "deve mostrar uma mensagem de erro caso o número recebido não faça sentido. Gere\n",
        "também um algoritmo que leia um valor e chame a função criada.\n",
        "'''\n",
        "\n",
        "def imprimir_mes(numero):\n",
        "    meses = {\n",
        "        1: \"janeiro\",\n",
        "        2: \"fevereiro\",\n",
        "        3: \"março\",\n",
        "        4: \"abril\",\n",
        "        5: \"maio\",\n",
        "        6: \"junho\",\n",
        "        7: \"julho\",\n",
        "        8: \"agosto\",\n",
        "        9: \"setembro\",\n",
        "        10: \"outubro\",\n",
        "        11: \"novembro\",\n",
        "        12: \"dezembro\"\n",
        "    }\n",
        "\n",
        "    if numero in meses:\n",
        "        print(f\"O mês correspondente ao número {numero} é {meses[numero]}.\")\n",
        "    else:\n",
        "        print(\"Erro: Número inválido. Por favor, insira um número entre 1 e 12.\")\n",
        "\n",
        "numero = int(input(\"Digite um número entre 1 e 12: \"))\n",
        "imprimir_mes(numero)\n"
      ],
      "metadata": {
        "id": "VtWzq_yIilij"
      },
      "execution_count": null,
      "outputs": []
    },
    {
      "cell_type": "code",
      "source": [
        "'''\n",
        "Escreva uma função que receba um número inteiro e retorne sua forma\n",
        "por extenso. A função deve ser capaz de gerar o extenso dos números\n",
        "de 0 a 10, inclusive. Caso o número recebido esteja fora desse\n",
        "intervalo, a função deve retornar uma mensagem de erro. Além disso,\n",
        "crie um algoritmo que leia um valor inteiro e utilize a função criada\n",
        "para exibir o número por extenso.\n",
        "'''\n",
        "\n",
        "def numero_por_extenso(numero):\n",
        "    extenso = {\n",
        "        0: \"zero\",\n",
        "        1: \"um\",\n",
        "        2: \"dois\",\n",
        "        3: \"três\",\n",
        "        4: \"quatro\",\n",
        "        5: \"cinco\",\n",
        "        6: \"seis\",\n",
        "        7: \"sete\",\n",
        "        8: \"oito\",\n",
        "        9: \"nove\",\n",
        "        10: \"dez\"\n",
        "    }\n",
        "\n",
        "    if numero in extenso:\n",
        "        return extenso[numero]\n",
        "    else:\n",
        "        return \"Erro: Número fora do intervalo permitido. Insira um número entre 0 e 10.\"\n",
        "\n",
        "numero = int(input(\"Digite um número entre 0 e 10: \"))\n",
        "resultado = numero_por_extenso(numero)\n",
        "print(f\"O número {numero} por extenso é: {resultado}\")\n"
      ],
      "metadata": {
        "id": "-JRhojy1i3Uz"
      },
      "execution_count": null,
      "outputs": []
    },
    {
      "cell_type": "code",
      "source": [
        "'''\n",
        "Escreva uma função que receba dois números inteiros x e y. Essa\n",
        "função deve verificar se x é divisível por y. No caso positivo,\n",
        "a função deve retornar 1, caso contrário zero.\n",
        "Escreva também um algoritmo para testar tal função.\n",
        "'''\n",
        "\n",
        "def verificar_divisao(x, y):\n",
        "        return 1 if y != 0 and x % y == 0 else 0\n",
        "\n",
        "x = int(input(\"Digite o valor de x: \"))\n",
        "y = int(input(\"Digite o valor de y: \"))\n",
        "\n",
        "if y == 0:\n",
        "    print(\"Erro: O divisor não pode ser zero.\")\n",
        "else:\n",
        "    resultado = verificar_divisao(x, y)\n",
        "    print(f\"Resultado da verificação: {resultado}\")\n"
      ],
      "metadata": {
        "id": "LtUbCVkqjjEj"
      },
      "execution_count": null,
      "outputs": []
    },
    {
      "cell_type": "markdown",
      "source": [
        "# Outras Questões"
      ],
      "metadata": {
        "id": "wjSAypy6nEbs"
      }
    },
    {
      "cell_type": "code",
      "source": [
        "'''\n",
        "Tamanho de strings.\n",
        "Faça um programa que leia 2 strings e informe o conteúdo delas seguido do seu comprimento.\n",
        "Informe também se as duas strings possuem o mesmo comprimento e são iguais ou diferentes no conteúdo.\n",
        "\n",
        "Exemplo:\n",
        "Compara duas strings\n",
        "String 1: Brasil Hexa 2006\n",
        "String 2: Brasil! Hexa 2006!\n",
        "Tamanho de \"Brasil Hexa 2006\": 16 caracteres\n",
        "Tamanho de \"Brasil! Hexa 2006!\": 18 caracteres\n",
        "As duas strings são de tamanhos diferentes.\n",
        "As duas strings possuem conteúdo diferente.\n",
        "'''\n",
        "\n",
        "def comparar_strings(str1, str2):\n",
        "\n",
        "    print(f'String 1: {str1}')\n",
        "    print(f'String 2: {str2}')\n",
        "    print(f'Tamanho de \"{str1}\": {len(str1)} caracteres')\n",
        "    print(f'Tamanho de \"{str2}\": {len(str2)} caracteres')\n",
        "\n",
        "    if len(str1) == len(str2):\n",
        "        print(\"As duas strings têm o mesmo tamanho.\")\n",
        "    else:\n",
        "        print(\"As duas strings são de tamanhos diferentes.\")\n",
        "\n",
        "    if str1 == str2:\n",
        "        print(\"As duas strings possuem conteúdo igual.\")\n",
        "    else:\n",
        "        print(\"As duas strings possuem conteúdo diferente.\")\n",
        "\n",
        "string1 = input(\"Digite a primeira string: \")\n",
        "string2 = input(\"Digite a segunda string: \")\n",
        "\n",
        "comparar_strings(string1, string2)\n"
      ],
      "metadata": {
        "id": "aYGb_hXDnGwP"
      },
      "execution_count": null,
      "outputs": []
    },
    {
      "cell_type": "code",
      "source": [
        "'''\n",
        "Valida e corrige número de telefone. Faça um programa que leia um número de telefone,\n",
        "e corrija o número no caso deste conter somente 7 dígitos, acrescentando o '3' na frente.\n",
        "O usuário pode informar o número com ou sem o traço separador.\n",
        "\n",
        "Valida e corrige número de telefone\n",
        "Telefone: 461-0133\n",
        "Telefone possui 7 dígitos. Vou acrescentar o digito três na frente.\n",
        "Telefone corrigido sem formatação: 34610133\n",
        "Telefone corrigido com formatação: 3461-0133\n",
        "'''\n",
        "\n",
        "def corrigir_telefone(telefone):\n",
        "    telefone_sem_traco = telefone.replace('-', '')\n",
        "\n",
        "    if len(telefone_sem_traco) == 7 and telefone_sem_traco.isdigit():\n",
        "        telefone_corrigido = '3' + telefone_sem_traco\n",
        "        telefone_corrigido_formatado = telefone_corrigido[:4] + '-' + telefone_corrigido[4:]\n",
        "        print(f'Telefone possui 7 dígitos. Vou acrescentar o dígito três na frente.')\n",
        "        print(f'Telefone corrigido sem formatação: {telefone_corrigido}')\n",
        "        print(f'Telefone corrigido com formatação: {telefone_corrigido_formatado}')\n",
        "    else:\n",
        "        print(f'O número de telefone \"{telefone}\" não precisa de correção ou é inválido.')\n",
        "\n",
        "telefone = input(\"Digite um número de telefone (com ou sem traço): \")\n",
        "\n",
        "corrigir_telefone(telefone)"
      ],
      "metadata": {
        "id": "K32OQWTwnjOu"
      },
      "execution_count": null,
      "outputs": []
    },
    {
      "cell_type": "code",
      "source": [
        "'''\n",
        "Data por extenso. Faça um programa que solicite a data de nascimento (dd/mm/aaaa) do usuário e imprima a data com o nome do mês por extenso.\n",
        "\n",
        "Data de Nascimento: 29/10/1973\n",
        "Você nasceu em  29 de Outubro de 1973.\n",
        "'''\n",
        "\n",
        "def data_por_extenso(data):\n",
        "    meses = {\n",
        "        1: \"Janeiro\",\n",
        "        2: \"Fevereiro\",\n",
        "        3: \"Março\",\n",
        "        4: \"Abril\",\n",
        "        5: \"Maio\",\n",
        "        6: \"Junho\",\n",
        "        7: \"Julho\",\n",
        "        8: \"Agosto\",\n",
        "        9: \"Setembro\",\n",
        "        10: \"Outubro\",\n",
        "        11: \"Novembro\",\n",
        "        12: \"Dezembro\"\n",
        "    }\n",
        "\n",
        "    try:\n",
        "        dia, mes, ano = map(int, data.split('/'))\n",
        "\n",
        "        if 1 <= mes <= 12 and 1 <= dia <= 31:\n",
        "            nome_mes = meses.get(mes, \"Mês inválido\")\n",
        "            print(f\"Você nasceu em {dia} de {nome_mes} de {ano}.\")\n",
        "        else:\n",
        "            print(\"Data inválida. Verifique o dia e o mês.\")\n",
        "    except ValueError:\n",
        "        print(\"Formato de data inválido. Certifique-se de usar dd/mm/aaaa.\")\n",
        "\n",
        "data = input(\"Digite a sua data de nascimento (dd/mm/aaaa): \")\n",
        "\n",
        "data_por_extenso(data)\n",
        "\n"
      ],
      "metadata": {
        "id": "8bxDp8HbnxOl"
      },
      "execution_count": null,
      "outputs": []
    },
    {
      "cell_type": "code",
      "source": [
        "'''\n",
        "Faça um programa que converta da notação de 24 horas para a notação de 12 horas.\n",
        "Por exemplo, o programa deve converter 14:25 em 2:25 P.M. A entrada é dada em dois inteiros (hora e minuto).\n",
        "CEsse código\n",
        "'''\n",
        "\n",
        "def converter_para_12_horas(hora, minuto):\n",
        "    if not (0 <= hora <= 23) or not (0 <= minuto <= 59):\n",
        "        return \"Hora ou minuto inválido. Verifique os valores e tente novamente.\"\n",
        "\n",
        "    if hora == 0:\n",
        "        hora_12 = 12\n",
        "        periodo = \"A.M.\"\n",
        "    elif 1 <= hora < 12:\n",
        "        hora_12 = hora\n",
        "        periodo = \"A.M.\"\n",
        "    elif hora == 12:\n",
        "        hora_12 = 12\n",
        "        periodo = \"P.M.\"\n",
        "    else:\n",
        "        hora_12 = hora - 12\n",
        "        periodo = \"P.M.\"\n",
        "\n",
        "    return f\"{hora_12}:{minuto:02d} {periodo}\"\n",
        "hora = int(input(\"Digite a hora (em formato 24 horas): \"))\n",
        "minuto = int(input(\"Digite o minuto: \"))\n",
        "\n",
        "resultado = converter_para_12_horas(hora, minuto)\n",
        "print(f\"Horário em formato 12 horas: {resultado}\")\n",
        "\n"
      ],
      "metadata": {
        "id": "g6CYeu8kosNJ"
      },
      "execution_count": null,
      "outputs": []
    },
    {
      "cell_type": "code",
      "source": [
        "''''\n",
        "Usando white, valide cada informação\n",
        "Faça um programa que leia e valide as seguintes informações:\n",
        "Nome: maior que 3 caracteres;\n",
        "Idade: entre 0 e 150;\n",
        "Salário: maior que zero;\n",
        "Estado Civil: 's', 'c', 'v', 'd';\n",
        "'''\n",
        "\n",
        "def ler_nome():\n",
        "    while True:\n",
        "        nome = input(\"Digite seu nome (maior que 3 caracteres): \")\n",
        "        if len(nome) > 3:\n",
        "            return nome\n",
        "        else:\n",
        "            print(\"Nome inválido. O nome deve ter mais de 3 caracteres.\")\n",
        "\n",
        "def ler_idade():\n",
        "    while True:\n",
        "        try:\n",
        "            idade = int(input(\"Digite sua idade (entre 0 e 150): \"))\n",
        "            if 0 <= idade <= 150:\n",
        "                return idade\n",
        "            else:\n",
        "                print(\"Idade inválida. A idade deve estar entre 0 e 150.\")\n",
        "        except ValueError:\n",
        "            print(\"Valor inválido. Digite um número inteiro para a idade.\")\n",
        "\n",
        "def ler_salario():\n",
        "    while True:\n",
        "        try:\n",
        "            salario = float(input(\"Digite seu salário (maior que zero): \"))\n",
        "            if salario > 0:\n",
        "                return salario\n",
        "            else:\n",
        "                print(\"Salário inválido. O salário deve ser maior que zero.\")\n",
        "        except ValueError:\n",
        "            print(\"Valor inválido. Digite um número válido para o salário.\")\n",
        "\n",
        "def ler_estado_civil():\n",
        "    while True:\n",
        "        estado_civil = input(\"Digite seu estado civil ('s' para solteiro, 'c' para casado, 'v' para viúvo, 'd' para divorciado): \").lower()\n",
        "        if estado_civil in ('s', 'c', 'v', 'd'):\n",
        "            return estado_civil\n",
        "        else:\n",
        "            print(\"Estado civil inválido. Digite 's', 'c', 'v' ou 'd'.\")\n",
        "\n",
        "nome = ler_nome()\n",
        "idade = ler_idade()\n",
        "salario = ler_salario()\n",
        "estado_civil = ler_estado_civil()\n",
        "\n",
        "print(f\"\\nInformações validadas:\")\n",
        "print(f\"Nome: {nome}\")\n",
        "print(f\"Idade: {idade}\")\n",
        "print(f\"Salário: R$ {salario:.2f}\")\n",
        "print(f\"Estado Civil: {estado_civil}\")\n"
      ],
      "metadata": {
        "id": "I-h94Ld2pZdn"
      },
      "execution_count": null,
      "outputs": []
    }
  ]
}