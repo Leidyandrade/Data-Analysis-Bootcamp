{
  "nbformat": 4,
  "nbformat_minor": 0,
  "metadata": {
    "colab": {
      "provenance": [],
      "authorship_tag": "ABX9TyP3BUO6jPsEHSEVB0ppmT2F",
      "include_colab_link": true
    },
    "kernelspec": {
      "name": "python3",
      "display_name": "Python 3"
    },
    "language_info": {
      "name": "python"
    }
  },
  "cells": [
    {
      "cell_type": "markdown",
      "metadata": {
        "id": "view-in-github",
        "colab_type": "text"
      },
      "source": [
        "<a href=\"https://colab.research.google.com/github/Leidyandrade/Data-Analysis-Bootcamp/blob/main/cloud/ConexaoGCP.ipynb\" target=\"_parent\"><img src=\"https://colab.research.google.com/assets/colab-badge.svg\" alt=\"Open In Colab\"/></a>"
      ]
    },
    {
      "cell_type": "markdown",
      "source": [
        "ATIVIDADE 1:"
      ],
      "metadata": {
        "id": "UJ3xegPKav-h"
      }
    },
    {
      "cell_type": "code",
      "execution_count": null,
      "metadata": {
        "id": "hluEWnHkIAgm",
        "collapsed": true
      },
      "outputs": [],
      "source": [
        "# importar o pandas e apelidar de pd\n",
        "import pandas as pd\n",
        "\n",
        "# Ler um arquivo .csv - read('url')\n",
        "df = pd.read_csv('https://storage.googleapis.com/treino-aula/dfs_brutos/alunos_matriculados.csv')\n",
        "\n",
        "# Exibir via display o df - DataFrame(Tabela)\n",
        "display(df)\n",
        "#criar uma coluna de times para cada linha um valor\n",
        "#Adição de colunas - Tratamento\n",
        "df['time'] = ['Flamengo','Vasco','Fluminense','Santos','Bahia','Fortaleza','Palmeiras','Corinthias','São Paulo']\n",
        "\n",
        "display(df)\n",
        "\n",
        "df.to_csv('alunos_matriculados_tratados_att.csv', index=False)\n",
        "\n",
        "# Acrescentando coluna de endereço ficticio\n",
        "# Acrescentando coluna de telefone ficticio\n",
        "df['endereco'] = [\n",
        "    'Rua dos Coqueiros', ' Rua Arnaldo Barbosa', 'Rua Frei Frederico vier','Rua Baependi',\n",
        "    'Rua Jequitibá','Rua dos Contabilistas','Rua Principal','Rua das Rosas','Rua C '\n",
        "    ]\n",
        "\n",
        "df['Telefone'] = [\n",
        "    '987365','553254','425354','733564','723646',\n",
        "    '632656','837513','872486', '987611'\n",
        "    ]\n",
        "\n",
        "df.to_csv('alunos_matriculados_tratados_att.csv')\n",
        "\n",
        "display(df)\n"
      ]
    },
    {
      "cell_type": "markdown",
      "source": [
        "ATIVIDADE 2:"
      ],
      "metadata": {
        "id": "pjk9B_CkanZ3"
      }
    },
    {
      "cell_type": "code",
      "source": [
        "# Um conjunto de listas que irão formar meu dicionário\n",
        "# Os dados serão relacionados a área da saúde\n",
        "# Import pandas as pd (No colab ñ precisa mas deixa aqui pra fixar)\n",
        "nomes = [\n",
        "    'Aline','Carlos','Thassiana','Lara','Ravi',\n",
        "    'Ariella','Cristina','Eduarda','Gabriel','Kallel'\n",
        "]\n",
        "\n",
        "cpfs = [\n",
        "    '76291539454', '86469405517', '86469405517', '72420026560', '85575821455',\n",
        "    '86664488906', '62591129398', '62591129398', '55285198020', '88186386378'\n",
        "]\n",
        "\n",
        "pesos = [\n",
        "    65.5,79.0,50.6,73.2,20.0,17.9,55.1,53.4,25.9,32.7\n",
        "\n",
        "]\n",
        "\n",
        "altura = [\n",
        "    1.58,1.78,1.55,1.65,1.00,1.20,1.64,1.59,1.15,1.40\n",
        "    ]\n",
        "\n",
        "# Montando o dicionário\n",
        "\n",
        "dicionario_pessoas = {\n",
        "\n",
        "    'nome': nomes,\n",
        "    'cpfs': cpfs,\n",
        "    'peso': pesos,\n",
        "    'altura': altura\n",
        "}\n",
        "\n",
        "# Transformando em DataFrame pd.DataFrame(aquilo que vc quer que vire um DataFrame)\n",
        "\n",
        "df_pessoas = pd.DataFrame(dicionario_pessoas)\n",
        "display(df_pessoas)\n",
        "\n",
        "df_pessoas.to_csv('clientes_clinica.csv', index=False)\n",
        "\n",
        "\n",
        "\n"
      ],
      "metadata": {
        "id": "-QqHEF0Garyy"
      },
      "execution_count": null,
      "outputs": []
    },
    {
      "cell_type": "code",
      "source": [
        "# # No dia seguinte......\n",
        "import pandas as pd\n",
        "\n",
        "df2 = pd.read_csv('https://storage.googleapis.com/my-bucket-academia-1233212/dfs_brutos/clientes_clinica.csv')\n",
        "\n",
        "\n",
        "df_pessoas.to_csv('clientes_clinica.csv', index=False)\n",
        "\n",
        "# TRATAMENTO\n",
        "# Criar uma coluna chamada imc, para efetuar o calculo do peso/(altura ** altura)\n",
        "# Acessando os dados\n",
        "\n",
        "# print(df2['nome'])\n",
        "# print(df2['peso'])\n",
        "\n",
        "df2['imc'] = round(df2['peso']/(df2['altura'] ** 2), 2)\n",
        "display(df2)\n",
        "\n",
        "# criar o csv tratado\n",
        "df2.to_csv('clientes_clinica_tratados.csv', index=False)\n",
        "\n",
        "# sobe para o storage\n"
      ],
      "metadata": {
        "id": "fTRK4ZVuoo-g"
      },
      "execution_count": null,
      "outputs": []
    },
    {
      "cell_type": "markdown",
      "source": [
        "ANOTAÇÕES:"
      ],
      "metadata": {
        "id": "AdM1vRT8i8Nk"
      }
    },
    {
      "cell_type": "code",
      "source": [
        "# exibir via display o df - DataFrame (Tabela)\n",
        "display(df)\n",
        "# quantidade de linhas e colunas\n",
        "df.shape\n",
        "# df.head() mostra só um cabeçalho as 5 primeiras linhas por padrão\n",
        "df.head()\n",
        "df.head(3) # 3 primeiras linhas\n",
        "# df.tail() Exibe na tela as n linhas finais, por padrao as 5 ultimas linhas\n",
        "df.tail()\n",
        "df.tail(3) # as 3 ultimas\n",
        "# mostras um resumo do DataFrame, incluindo o numero de linhas\n",
        "# o nome das colunas quantas, valores tem em cada coluna, tipo de cada coluna\n",
        "df.info()\n",
        "# criar um csv para guardar em um storage\n",
        "# to_csv\n",
        "\n",
        "df_pessoas.to_csv('clientes_clinica.csv', index=False)\n",
        "# jogar no storage e torna público\n",
        "\n",
        "\n",
        "display(df2)"
      ],
      "metadata": {
        "id": "AqUex9tAi-ZJ"
      },
      "execution_count": null,
      "outputs": []
    }
  ]
}